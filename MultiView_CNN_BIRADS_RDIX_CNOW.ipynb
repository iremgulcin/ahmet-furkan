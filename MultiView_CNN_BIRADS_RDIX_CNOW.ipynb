{
  "cells": [
    {
      "cell_type": "code",
      "source": [
        "import os\n",
        "from collections import defaultdict\n",
        "\n",
        "def count_images_in_subfolders(root_path):\n",
        "    result = defaultdict(int)\n",
        "\n",
        "    for foldername, subfolders, filenames in os.walk(root_path):\n",
        "        image_count = sum(1 for filename in filenames if filename.lower().endswith(('.png', '.jpg', '.jpeg', '.gif', '.bmp')))\n",
        "        result[foldername] += image_count\n",
        "\n",
        "    for folder, count in result.items():\n",
        "        print(f\"{folder} = {count}\")\n",
        "\n",
        "# Kullanım örneği\n",
        "path = \"/content/drive/MyDrive/Dataset/CMMD-dataset-v3\"\n",
        "count_images_in_subfolders(path)\n"
      ],
      "metadata": {
        "id": "OzEMZewhXIrz",
        "colab": {
          "base_uri": "https://localhost:8080/"
        },
        "outputId": "5f60f6bb-49d1-4888-ad75-8ac121dcc687"
      },
      "execution_count": null,
      "outputs": [
        {
          "output_type": "stream",
          "name": "stdout",
          "text": [
            "/content/drive/MyDrive/Dataset/CMMD-dataset-v3 = 0\n",
            "/content/drive/MyDrive/Dataset/CMMD-dataset-v3/LCC = 0\n",
            "/content/drive/MyDrive/Dataset/CMMD-dataset-v3/LCC/train = 0\n",
            "/content/drive/MyDrive/Dataset/CMMD-dataset-v3/LCC/train/birads23 = 1000\n",
            "/content/drive/MyDrive/Dataset/CMMD-dataset-v3/LCC/train/birads45 = 1000\n",
            "/content/drive/MyDrive/Dataset/CMMD-dataset-v3/LCC/train/birads1 = 1000\n",
            "/content/drive/MyDrive/Dataset/CMMD-dataset-v3/LCC/valid = 0\n",
            "/content/drive/MyDrive/Dataset/CMMD-dataset-v3/LCC/valid/birads45 = 240\n",
            "/content/drive/MyDrive/Dataset/CMMD-dataset-v3/LCC/valid/birads23 = 240\n",
            "/content/drive/MyDrive/Dataset/CMMD-dataset-v3/LCC/valid/birads1 = 240\n",
            "/content/drive/MyDrive/Dataset/CMMD-dataset-v3/LCC/test = 0\n",
            "/content/drive/MyDrive/Dataset/CMMD-dataset-v3/LCC/test/birads1 = 160\n",
            "/content/drive/MyDrive/Dataset/CMMD-dataset-v3/LCC/test/birads23 = 160\n",
            "/content/drive/MyDrive/Dataset/CMMD-dataset-v3/LCC/test/birads45 = 160\n",
            "/content/drive/MyDrive/Dataset/CMMD-dataset-v3/LMLO = 0\n",
            "/content/drive/MyDrive/Dataset/CMMD-dataset-v3/LMLO/train = 0\n",
            "/content/drive/MyDrive/Dataset/CMMD-dataset-v3/LMLO/train/birads1 = 1000\n",
            "/content/drive/MyDrive/Dataset/CMMD-dataset-v3/LMLO/train/birads45 = 1000\n",
            "/content/drive/MyDrive/Dataset/CMMD-dataset-v3/LMLO/train/birads23 = 1000\n",
            "/content/drive/MyDrive/Dataset/CMMD-dataset-v3/LMLO/valid = 0\n",
            "/content/drive/MyDrive/Dataset/CMMD-dataset-v3/LMLO/valid/birads45 = 240\n",
            "/content/drive/MyDrive/Dataset/CMMD-dataset-v3/LMLO/valid/birads1 = 240\n",
            "/content/drive/MyDrive/Dataset/CMMD-dataset-v3/LMLO/valid/birads23 = 240\n",
            "/content/drive/MyDrive/Dataset/CMMD-dataset-v3/LMLO/test = 0\n",
            "/content/drive/MyDrive/Dataset/CMMD-dataset-v3/LMLO/test/birads23 = 160\n",
            "/content/drive/MyDrive/Dataset/CMMD-dataset-v3/LMLO/test/birads45 = 160\n",
            "/content/drive/MyDrive/Dataset/CMMD-dataset-v3/LMLO/test/birads1 = 160\n"
          ]
        }
      ]
    },
    {
      "cell_type": "code",
      "source": [
        "!kill -9 -1"
      ],
      "metadata": {
        "id": "_USFcfRmVH6G"
      },
      "execution_count": null,
      "outputs": []
    },
    {
      "cell_type": "code",
      "source": [
        "import torch\n",
        "import torchvision\n",
        "import torchvision.transforms as transforms\n",
        "from torch.utils.data import Dataset, DataLoader, ConcatDataset\n",
        "from torchvision.datasets import ImageFolder\n",
        "from torch.optim import Adam\n",
        "import torch.nn as nn\n",
        "import os\n",
        "\n",
        "# Veri yükleme ve ön işleme\n",
        "data_transform = transforms.Compose([\n",
        "    transforms.ToTensor(),\n",
        "    transforms.Normalize(mean=[0.485, 0.456, 0.406], std=[0.229, 0.224, 0.225]),\n",
        "])\n",
        "\n",
        "views = ['/content/drive/MyDrive/Dataset/CMMD-dataset-v3/LCC', '/content/drive/MyDrive/Dataset/CMMD-dataset-v3/LMLO']\n",
        "train_datasets = []\n",
        "test_datasets = []\n",
        "valid_datasets = []\n",
        "\n",
        "for view in views:\n",
        "    train_path = os.path.join(view, 'train')\n",
        "    test_path = os.path.join(view, 'test')\n",
        "    valid_path = os.path.join(view, 'valid')\n",
        "\n",
        "    train_datasets.append(ImageFolder(train_path, transform=data_transform))\n",
        "    test_datasets.append(ImageFolder(test_path, transform=data_transform))\n",
        "    valid_datasets.append(ImageFolder(valid_path, transform=data_transform))\n",
        "\n",
        "train_dataset = ConcatDataset(train_datasets)\n",
        "test_dataset = ConcatDataset(test_datasets)\n",
        "valid_dataset = ConcatDataset(valid_datasets)\n",
        "\n",
        "# train_loader = DataLoader(train_dataset, batch_size=32, shuffle=True)\n",
        "# test_loader = DataLoader(test_dataset, batch_size=32, shuffle=False)\n",
        "# valid_loader = DataLoader(valid_dataset, batch_size=32, shuffle=False)"
      ],
      "metadata": {
        "id": "ujtfaq4hrj-z"
      },
      "execution_count": null,
      "outputs": []
    },
    {
      "cell_type": "code",
      "source": [
        "import torch.optim as optim\n",
        "\n",
        "class MultiViewDataset(Dataset):\n",
        "    def __init__(self, root, mode, transform=None):\n",
        "        self.root = root\n",
        "        self.transform = transform\n",
        "        # self.rcc = ImageFolder(os.path.join(root, \"RCC\", mode), transform=self.transform)\n",
        "        self.lcc = ImageFolder(os.path.join(root, \"LCC\", mode), transform=self.transform)\n",
        "        # self.rmlo = ImageFolder(os.path.join(root, \"RMLO\", mode), transform=self.transform)\n",
        "        self.lmlo = ImageFolder(os.path.join(root, \"LMLO\", mode), transform=self.transform)\n",
        "\n",
        "    def __getitem__(self, index):\n",
        "        # img_rcc, label = self.rcc[index]\n",
        "        img_lcc, label = self.lcc[index]\n",
        "        # img_rmlo, _ = self.rmlo[index]\n",
        "        img_lmlo, _ = self.lmlo[index]\n",
        "        # return (img_rcc, img_lcc, img_rmlo, img_lmlo), label\n",
        "        return (img_lcc, img_lmlo), label\n",
        "\n",
        "    def __len__(self):\n",
        "        return len(self.lcc)\n",
        "\n",
        "# Dönüşüm işlemleri\n",
        "transform = transforms.Compose([\n",
        "    transforms.Resize((512, 512)),\n",
        "    transforms.ToTensor(),\n",
        "    transforms.Normalize(mean=[0.485, 0.456, 0.406],\n",
        "                         std=[0.229, 0.224, 0.225])\n",
        "])\n"
      ],
      "metadata": {
        "id": "JsVwfFTxrlXC"
      },
      "execution_count": null,
      "outputs": []
    },
    {
      "cell_type": "code",
      "source": [
        "# import torch\n",
        "# import torch.nn as nn\n",
        "# import torchvision.models as models\n",
        "\n",
        "# class MultiViewVGG16(nn.Module):\n",
        "#     def __init__(self, num_classes=3):\n",
        "#         super(MultiViewVGG16, self).__init__()\n",
        "\n",
        "#         self.vgg16 = models.vgg16(pretrained=True)\n",
        "#         self.vgg16.classifier = nn.Sequential(*list(self.vgg16.classifier.children())[:-1])\n",
        "\n",
        "#         self.dropout = nn.Dropout(0.4)\n",
        "#         self.classifier = nn.Linear(4096 * 2, num_classes)\n",
        "\n",
        "#     def forward(self, x1, x2):\n",
        "#         x1 = self.vgg16(x1)\n",
        "#         x2 = self.vgg16(x2)\n",
        "#         # x3 = self.vgg16(x3)\n",
        "#         # x4 = self.vgg16(x4)\n",
        "\n",
        "#         x = torch.cat((x1, x2), dim=1)\n",
        "#         # x = torch.cat((x1, x2, x3, x4), dim=1)\n",
        "#         x = self.dropout(x)\n",
        "#         x = self.classifier(x)\n",
        "\n",
        "#         return x"
      ],
      "metadata": {
        "id": "HykIUNqlnBjc"
      },
      "execution_count": null,
      "outputs": []
    },
    {
      "cell_type": "code",
      "source": [
        "# import torch.nn as nn\n",
        "# import torchvision.models as models\n",
        "\n",
        "# class MultiViewResNet50(nn.Module):\n",
        "#     def __init__(self, num_classes=4):\n",
        "#         super(MultiViewResNet50, self).__init__()\n",
        "\n",
        "#         # Using ResNet50 instead of VGG16\n",
        "#         self.resnet50 = models.resnet50(pretrained=True)\n",
        "#         num_ftrs = self.resnet50.fc.in_features\n",
        "#         self.resnet50.fc = nn.Identity()  # Removing the original fully connected layer\n",
        "\n",
        "#         self.dropout = nn.Dropout(0.4)\n",
        "#         self.classifier = nn.Linear(num_ftrs * 2, num_classes)  # Adjusting the classifier\n",
        "\n",
        "#     def forward(self, x1, x2):\n",
        "#         x1 = self.resnet50(x1)\n",
        "#         x2 = self.resnet50(x2)\n",
        "\n",
        "#         x = torch.cat((x1, x2), dim=1)\n",
        "#         x = self.dropout(x)\n",
        "#         x = self.classifier(x)\n",
        "\n",
        "#         return x\n"
      ],
      "metadata": {
        "id": "Tn305RJyAkbw"
      },
      "execution_count": null,
      "outputs": []
    },
    {
      "cell_type": "code",
      "source": [
        "import torch.nn as nn\n",
        "import torchvision.models as models\n",
        "\n",
        "class MultiViewGoogleNet(nn.Module):\n",
        "    def __init__(self, num_classes=3):\n",
        "        super(MultiViewGoogleNet, self).__init__()\n",
        "\n",
        "        # GoogleNet (Inception v1) yükleniyor\n",
        "        self.googlenet = models.googlenet(pretrained=True)\n",
        "        # GoogleNet'in son katmanını çıkartıyoruz\n",
        "        num_ftrs = self.googlenet.fc.in_features\n",
        "        self.googlenet.fc = nn.Identity()\n",
        "\n",
        "        self.dropout = nn.Dropout(0.3)\n",
        "        # İki görüntüyü birleştirdikten sonra sınıflandırma için yeni bir katman ekliyoruz\n",
        "        self.classifier = nn.Linear(num_ftrs * 2, num_classes)\n",
        "\n",
        "    def forward(self, x1, x2):\n",
        "        x1 = self.googlenet(x1)\n",
        "        x2 = self.googlenet(x2)\n",
        "\n",
        "        x = torch.cat((x1, x2), dim=1)\n",
        "        x = self.dropout(x)\n",
        "        x = self.classifier(x)\n",
        "\n",
        "        return x\n"
      ],
      "metadata": {
        "id": "9d4XvSuXH0iH"
      },
      "execution_count": null,
      "outputs": []
    },
    {
      "cell_type": "code",
      "source": [
        "# import torch\n",
        "# import torch.nn as nn\n",
        "# import torch.nn.functional as F\n",
        "\n",
        "# # Focal Loss Implementation\n",
        "# class FocalLoss(nn.Module):\n",
        "#     def __init__(self, alpha=1, gamma=2, reduction='mean'):\n",
        "#         super(FocalLoss, self).__init__()\n",
        "#         self.alpha = alpha\n",
        "#         self.gamma = gamma\n",
        "#         self.reduction = reduction\n",
        "\n",
        "#     def forward(self, inputs, targets):\n",
        "#         BCE_loss = F.binary_cross_entropy_with_logits(inputs, targets, reduction='none')\n",
        "#         pt = torch.exp(-BCE_loss)  # prevents nans when probability 0\n",
        "#         F_loss = self.alpha * (1-pt)**self.gamma * BCE_loss\n",
        "\n",
        "#         if self.reduction == 'mean':\n",
        "#             return torch.mean(F_loss)\n",
        "#         elif self.reduction == 'sum':\n",
        "#             return torch.sum(F_loss)\n",
        "#         else:\n",
        "#             return F_loss\n",
        "\n",
        "\n"
      ],
      "metadata": {
        "id": "BKDWdEgCAqMq"
      },
      "execution_count": null,
      "outputs": []
    },
    {
      "cell_type": "code",
      "source": [
        "data_root = \"/content/drive/MyDrive/Dataset/CMMD-dataset-v3\"\n",
        "train_set = MultiViewDataset(data_root, \"train\", transform=transform)\n",
        "test_set = MultiViewDataset(data_root, \"test\", transform=transform)\n",
        "valid_set = MultiViewDataset(data_root, \"valid\", transform=transform)"
      ],
      "metadata": {
        "id": "w66ASqFwrhuZ"
      },
      "execution_count": null,
      "outputs": []
    },
    {
      "cell_type": "code",
      "source": [
        "train_loader = DataLoader(train_set, batch_size=8, shuffle=True)\n",
        "test_loader = DataLoader(test_set, batch_size=8, shuffle=False)\n",
        "valid_loader = DataLoader(valid_set, batch_size=8, shuffle=False)"
      ],
      "metadata": {
        "id": "Fu6mULJ_sCtT"
      },
      "execution_count": null,
      "outputs": []
    },
    {
      "cell_type": "code",
      "source": [
        "len(train_loader), len(valid_loader), len(test_loader)"
      ],
      "metadata": {
        "colab": {
          "base_uri": "https://localhost:8080/"
        },
        "id": "4ypIIrYvriRZ",
        "outputId": "d6ebdf98-54a3-4151-da47-5024e28cd141"
      },
      "execution_count": null,
      "outputs": [
        {
          "output_type": "execute_result",
          "data": {
            "text/plain": [
              "(375, 90, 60)"
            ]
          },
          "metadata": {},
          "execution_count": 7
        }
      ]
    },
    {
      "cell_type": "code",
      "source": [
        "device = torch.device(\"cuda\" if torch.cuda.is_available() else \"cpu\")\n",
        "\n",
        "model = MultiViewGoogleNet(num_classes=3)\n",
        "model.to(device)\n",
        "\n",
        "criterion = nn.CrossEntropyLoss()\n",
        "optimizer = optim.SGD(model.parameters(), lr=0.001, momentum=0.9)\n",
        "# optimizer = optim.Adam(model.parameters(), lr=0.001)\n",
        "\n",
        "num_epochs = 40\n",
        "\n",
        "best_accuracy = 0\n",
        "save_path = \"/content/drive/MyDrive/Dataset/CMMD-dataset-v3/best_model.pth\"\n",
        "\n",
        "for epoch in range(num_epochs):\n",
        "    model.train()\n",
        "    running_loss = 0.0\n",
        "    for i, (images, labels) in enumerate(train_loader):\n",
        "        images = [img.to(device) for img in images]\n",
        "        labels = labels.to(device)\n",
        "\n",
        "        optimizer.zero_grad()\n",
        "\n",
        "        outputs = model(*images)\n",
        "        loss = criterion(outputs, labels)\n",
        "        loss.backward()\n",
        "        optimizer.step()\n",
        "\n",
        "        running_loss += loss.item()\n",
        "\n",
        "    # Validation\n",
        "    model.eval()\n",
        "    correct = 0\n",
        "    total = 0\n",
        "    with torch.no_grad():\n",
        "        for images, labels in valid_loader:\n",
        "            images = [img.to(device) for img in images]\n",
        "            labels = labels.to(device)\n",
        "\n",
        "            outputs = model(*images)\n",
        "            _, predicted = torch.max(outputs, 1)\n",
        "            total += labels.size(0)\n",
        "            correct += (predicted == labels).sum().item()\n",
        "\n",
        "    accuracy = correct / total\n",
        "    print(f\"Epoch [{epoch + 1}/{num_epochs}], Loss: {running_loss / (i + 1)} Validation accuracy: {accuracy * 100:.2f}%\")\n",
        "\n",
        "    torch.save(model.state_dict(), f\"/content/drive/MyDrive/tubitak/birads/epoch_{epoch+1}.pth\")\n",
        "    # Save the best model\n",
        "    if accuracy > best_accuracy:\n",
        "        best_accuracy = accuracy\n",
        "        torch.save(model.state_dict(), save_path)\n",
        "        print(f\"Best model saved with accuracy: {best_accuracy * 100:.2f}%\")\n",
        "\n",
        "print(\"Training completed.\")"
      ],
      "metadata": {
        "colab": {
          "base_uri": "https://localhost:8080/"
        },
        "id": "pCJ1pneCNCPX",
        "outputId": "e79f133e-3699-4a28-95e7-c53152dc7787"
      },
      "execution_count": null,
      "outputs": [
        {
          "output_type": "stream",
          "name": "stderr",
          "text": [
            "/usr/local/lib/python3.10/dist-packages/torchvision/models/_utils.py:208: UserWarning: The parameter 'pretrained' is deprecated since 0.13 and may be removed in the future, please use 'weights' instead.\n",
            "  warnings.warn(\n",
            "/usr/local/lib/python3.10/dist-packages/torchvision/models/_utils.py:223: UserWarning: Arguments other than a weight enum or `None` for 'weights' are deprecated since 0.13 and may be removed in the future. The current behavior is equivalent to passing `weights=GoogLeNet_Weights.IMAGENET1K_V1`. You can also use `weights=GoogLeNet_Weights.DEFAULT` to get the most up-to-date weights.\n",
            "  warnings.warn(msg)\n",
            "Downloading: \"https://download.pytorch.org/models/googlenet-1378be20.pth\" to /root/.cache/torch/hub/checkpoints/googlenet-1378be20.pth\n",
            "100%|██████████| 49.7M/49.7M [00:00<00:00, 74.7MB/s]\n"
          ]
        },
        {
          "output_type": "stream",
          "name": "stdout",
          "text": [
            "Epoch [1/40], Loss: 0.8175581394433975 Validation accuracy: 66.53%\n",
            "Best model saved with accuracy: 66.53%\n",
            "Epoch [2/40], Loss: 0.6825429355303446 Validation accuracy: 63.47%\n",
            "Epoch [3/40], Loss: 0.6382853873968124 Validation accuracy: 70.28%\n",
            "Best model saved with accuracy: 70.28%\n",
            "Epoch [4/40], Loss: 0.5855912402470906 Validation accuracy: 70.97%\n",
            "Best model saved with accuracy: 70.97%\n",
            "Epoch [5/40], Loss: 0.5558186990618705 Validation accuracy: 72.22%\n",
            "Best model saved with accuracy: 72.22%\n",
            "Epoch [6/40], Loss: 0.5187559225757917 Validation accuracy: 71.39%\n",
            "Epoch [7/40], Loss: 0.48421470338106154 Validation accuracy: 71.11%\n",
            "Epoch [8/40], Loss: 0.4358848217129707 Validation accuracy: 72.08%\n",
            "Epoch [9/40], Loss: 0.39605832054217655 Validation accuracy: 68.33%\n",
            "Epoch [10/40], Loss: 0.3335748625397682 Validation accuracy: 71.39%\n",
            "Epoch [11/40], Loss: 0.29111555910110476 Validation accuracy: 63.47%\n",
            "Epoch [12/40], Loss: 0.28468467462559544 Validation accuracy: 72.22%\n",
            "Epoch [13/40], Loss: 0.21518377738445998 Validation accuracy: 72.22%\n",
            "Epoch [14/40], Loss: 0.1844136543770631 Validation accuracy: 69.72%\n",
            "Epoch [15/40], Loss: 0.17831772088973472 Validation accuracy: 73.33%\n",
            "Best model saved with accuracy: 73.33%\n",
            "Epoch [16/40], Loss: 0.12691752090553443 Validation accuracy: 72.50%\n",
            "Epoch [17/40], Loss: 0.18797896830240884 Validation accuracy: 66.39%\n",
            "Epoch [18/40], Loss: 0.14943144309613854 Validation accuracy: 63.33%\n",
            "Epoch [19/40], Loss: 0.14045951382691663 Validation accuracy: 71.39%\n",
            "Epoch [20/40], Loss: 0.12236174817942083 Validation accuracy: 70.14%\n",
            "Epoch [21/40], Loss: 0.10318831767700612 Validation accuracy: 72.78%\n",
            "Epoch [22/40], Loss: 0.08929395432490855 Validation accuracy: 69.86%\n",
            "Epoch [23/40], Loss: 0.07416107799718157 Validation accuracy: 71.53%\n",
            "Epoch [24/40], Loss: 0.07069447895744815 Validation accuracy: 69.44%\n",
            "Epoch [25/40], Loss: 0.05575153531894709 Validation accuracy: 73.89%\n",
            "Best model saved with accuracy: 73.89%\n",
            "Epoch [26/40], Loss: 0.05512361464765854 Validation accuracy: 67.08%\n",
            "Epoch [27/40], Loss: 0.05152189044196469 Validation accuracy: 70.97%\n",
            "Epoch [28/40], Loss: 0.0579495468675547 Validation accuracy: 72.50%\n",
            "Epoch [29/40], Loss: 0.0643886556912524 Validation accuracy: 70.83%\n",
            "Epoch [30/40], Loss: 0.055383908410381995 Validation accuracy: 71.11%\n",
            "Epoch [31/40], Loss: 0.03915896359404238 Validation accuracy: 73.19%\n",
            "Epoch [32/40], Loss: 0.05252607096620098 Validation accuracy: 71.39%\n",
            "Epoch [33/40], Loss: 0.04791624150021623 Validation accuracy: 73.75%\n",
            "Epoch [34/40], Loss: 0.039233814476368326 Validation accuracy: 72.08%\n",
            "Epoch [35/40], Loss: 0.037314261477052545 Validation accuracy: 70.97%\n",
            "Epoch [36/40], Loss: 0.03151332296736655 Validation accuracy: 71.25%\n",
            "Epoch [37/40], Loss: 0.043440480505814776 Validation accuracy: 72.22%\n",
            "Epoch [38/40], Loss: 0.056074592333287 Validation accuracy: 70.83%\n",
            "Epoch [39/40], Loss: 0.03341231168106121 Validation accuracy: 70.00%\n",
            "Epoch [40/40], Loss: 0.022906199151165006 Validation accuracy: 70.97%\n",
            "Training completed.\n"
          ]
        }
      ]
    },
    {
      "cell_type": "code",
      "source": [
        "import os\n",
        "os.environ['CUDA_LAUNCH_BLOCKING'] = '1'\n",
        "!export CUDA_LAUNCH_BLOCKING=1\n"
      ],
      "metadata": {
        "id": "SkZeGj-YNgyI"
      },
      "execution_count": null,
      "outputs": []
    },
    {
      "cell_type": "code",
      "source": [
        "from sklearn.metrics import confusion_matrix\n",
        "import numpy as np\n",
        "\n",
        "# Load the best model\n",
        "model.load_state_dict(torch.load(save_path))\n",
        "model.to(device)\n",
        "\n",
        "# Test\n",
        "test_set = MultiViewDataset(data_root, \"test\", transform=transform)\n",
        "test_loader = DataLoader(test_set, batch_size=8, shuffle=False)\n",
        "\n",
        "model.eval()\n",
        "predictions = []\n",
        "actuals = []\n",
        "\n",
        "with torch.no_grad():\n",
        "    for images, labels in test_loader:\n",
        "        images = [img.to(device) for img in images]\n",
        "        labels = labels.to(device)\n",
        "\n",
        "        outputs = model(*images)\n",
        "        _, predicted = torch.max(outputs, 1)\n",
        "        predictions.extend(predicted.cpu().numpy())\n",
        "        actuals.extend(labels.cpu().numpy())\n",
        "\n",
        "CM = confusion_matrix(actuals, predictions)\n",
        "print(CM)\n",
        "\n",
        "FP = CM.sum(axis=0) - np.diag(CM)\n",
        "FN = CM.sum(axis=1) - np.diag(CM)\n",
        "TP = np.diag(CM)\n",
        "TN = CM.sum() - (FP + FN + TP)\n",
        "recall = TP/(TP+FN)*100\n",
        "precision = TP/(TP+FP)*100\n",
        "specificity = TN/(TN+FP)*100\n",
        "acc = (TP+TN)/(TP+TN+FP+FN)*100\n",
        "print(f'\\nSpecificty: {specificity}, Mean Specificity: {np.nanmean(specificity)}')\n",
        "print(f'\\nRecall: {recall}, Mean Recall: {np.nanmean(recall)}')\n",
        "print(f'\\nPrecision: {precision}, Mean Precision: {np.nanmean(precision)}')\n",
        "print(f'\\nAccuracy: {acc}, Mean Accuracy: {np.nanmean(acc)}')\n",
        "print(f'\\nF1 Score: {((2*recall*precision)/(recall+precision))}, Mean F1-Score: {np.nanmean(((2*recall*precision)/(recall+precision)))}' )\n"
      ],
      "metadata": {
        "id": "ATnB6QYRrlL2",
        "colab": {
          "base_uri": "https://localhost:8080/"
        },
        "outputId": "d2a14fd3-0303-4460-9dcc-2860f42aa5c6"
      },
      "execution_count": null,
      "outputs": [
        {
          "output_type": "stream",
          "name": "stdout",
          "text": [
            "[[100  60   0]\n",
            " [ 36  69  55]\n",
            " [  0  18 142]]\n",
            "\n",
            "Specificty: [88.75   75.625  82.8125], Mean Specificity: 82.39583333333333\n",
            "\n",
            "Recall: [62.5   43.125 88.75 ], Mean Recall: 64.79166666666667\n",
            "\n",
            "Precision: [73.52941176 46.93877551 72.08121827], Mean Precision: 64.18313518300721\n",
            "\n",
            "Accuracy: [80.         64.79166667 84.79166667], Mean Accuracy: 76.52777777777779\n",
            "\n",
            "F1 Score: [67.56756757 44.95114007 79.55182073], Mean F1-Score: 64.0235094536685\n"
          ]
        }
      ]
    },
    {
      "cell_type": "code",
      "source": [
        "!kill -9 -1"
      ],
      "metadata": {
        "id": "cDHNdhU1e0lg"
      },
      "execution_count": null,
      "outputs": []
    },
    {
      "cell_type": "code",
      "source": [
        "import seaborn as sns\n",
        "import matplotlib.pyplot as plt\n",
        "\n",
        "# Confusion matrix\n",
        "confusion_mtx = confusion_matrix(actuals, predictions)\n",
        "\n",
        "# Plot confusion matrix using seaborn heatmap\n",
        "plt.figure(figsize=(10, 8))\n",
        "sns.set(font_scale=1.2)\n",
        "sns.heatmap(confusion_mtx, annot=True, fmt='g', cmap='Blues', xticklabels=[\"BIRADS1\",\"BIRADS2-3\",\"BIRADS4-5\"], yticklabels=[\"BIRADS1\",\"BIRADS2-3\",\"BIRADS4-5\"])\n",
        "plt.xlabel('Predicted')\n",
        "plt.ylabel('Actual')\n",
        "plt.title('Confusion Matrix')\n",
        "plt.show()\n"
      ],
      "metadata": {
        "colab": {
          "base_uri": "https://localhost:8080/",
          "height": 732
        },
        "id": "xouW2nkXrlJz",
        "outputId": "b8f08724-391a-491a-d4c2-7891844ee405"
      },
      "execution_count": null,
      "outputs": [
        {
          "output_type": "display_data",
          "data": {
            "text/plain": [
              "<Figure size 1000x800 with 2 Axes>"
            ],
            "image/png": "[encoded data removed]"
          },
          "metadata": {}
        }
      ]
    },
    {
      "cell_type": "code",
      "source": [],
      "metadata": {
        "id": "SRG9gsuerj6U"
      },
      "execution_count": null,
      "outputs": []
    }
  ],
  "metadata": {
    "accelerator": "GPU",
    "colab": {
      "provenance": [],
      "machine_shape": "hm",
      "gpuType": "A100",
      "gpuClass": "premium"
    },
    "kernelspec": {
      "display_name": "Python 3",
      "name": "python3"
    },
    "language_info": {
      "name": "python"
    }
  },
  "nbformat": 4,
  "nbformat_minor": 0
}