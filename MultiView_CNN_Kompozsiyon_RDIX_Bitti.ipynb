{
  "cells": [
    {
      "cell_type": "code",
      "source": [
        "import torch\n",
        "import torchvision\n",
        "import torchvision.transforms as transforms\n",
        "from torch.utils.data import Dataset, DataLoader, ConcatDataset\n",
        "from torchvision.datasets import ImageFolder\n",
        "from torch.optim import Adam\n",
        "import torch.nn as nn\n",
        "import os\n",
        "\n",
        "# Veri yükleme ve ön işleme\n",
        "data_transform = transforms.Compose([\n",
        "    transforms.ToTensor(),\n",
        "    transforms.Normalize(mean=[0.485, 0.456, 0.406], std=[0.229, 0.224, 0.225]),\n",
        "])\n",
        "\n",
        "views = ['/content/drive/MyDrive/Dataset/kompozisyon_dataset/RCC', '/content/drive/MyDrive/Dataset/kompozisyon_dataset/LCC', '/content/drive/MyDrive/Dataset/kompozisyon_dataset/RMLO', '/content/drive/MyDrive/Dataset/kompozisyon_dataset/LMLO']\n",
        "train_datasets = []\n",
        "test_datasets = []\n",
        "valid_datasets = []\n",
        "\n",
        "for view in views:\n",
        "    train_path = os.path.join(view, 'train')\n",
        "    test_path = os.path.join(view, 'test')\n",
        "    valid_path = os.path.join(view, 'valid')\n",
        "\n",
        "    train_datasets.append(ImageFolder(train_path, transform=data_transform))\n",
        "    test_datasets.append(ImageFolder(test_path, transform=data_transform))\n",
        "    valid_datasets.append(ImageFolder(valid_path, transform=data_transform))\n",
        "\n",
        "train_dataset = ConcatDataset(train_datasets)\n",
        "test_dataset = ConcatDataset(test_datasets)\n",
        "valid_dataset = ConcatDataset(valid_datasets)\n",
        "\n",
        "# train_loader = DataLoader(train_dataset, batch_size=32, shuffle=True)\n",
        "# test_loader = DataLoader(test_dataset, batch_size=32, shuffle=False)\n",
        "# valid_loader = DataLoader(valid_dataset, batch_size=32, shuffle=False)"
      ],
      "metadata": {
        "id": "ujtfaq4hrj-z"
      },
      "execution_count": null,
      "outputs": []
    },
    {
      "cell_type": "code",
      "source": [
        "import torch.optim as optim\n",
        "\n",
        "class MultiViewDataset(Dataset):\n",
        "    def __init__(self, root, mode, transform=None):\n",
        "        self.root = root\n",
        "        self.transform = transform\n",
        "        self.rcc = ImageFolder(os.path.join(root, \"RCC\", mode), transform=self.transform)\n",
        "        self.lcc = ImageFolder(os.path.join(root, \"LCC\", mode), transform=self.transform)\n",
        "        self.rmlo = ImageFolder(os.path.join(root, \"RMLO\", mode), transform=self.transform)\n",
        "        self.lmlo = ImageFolder(os.path.join(root, \"LMLO\", mode), transform=self.transform)\n",
        "\n",
        "    def __getitem__(self, index):\n",
        "        img_rcc, label = self.rcc[index]\n",
        "        img_lcc, _ = self.lcc[index]\n",
        "        img_rmlo, _ = self.rmlo[index]\n",
        "        img_lmlo, _ = self.lmlo[index]\n",
        "        return (img_rcc, img_lcc, img_rmlo, img_lmlo), label\n",
        "\n",
        "    def __len__(self):\n",
        "        return len(self.rcc)\n",
        "\n",
        "# Dönüşüm işlemleri\n",
        "transform = transforms.Compose([\n",
        "    transforms.Resize((512, 512)),\n",
        "    transforms.ToTensor(),\n",
        "    transforms.Normalize(mean=[0.485, 0.456, 0.406],\n",
        "                         std=[0.229, 0.224, 0.225])\n",
        "])\n"
      ],
      "metadata": {
        "id": "JsVwfFTxrlXC"
      },
      "execution_count": null,
      "outputs": []
    },
    {
      "cell_type": "code",
      "source": [
        "import torch\n",
        "import torch.nn as nn\n",
        "import torchvision.models as models"
      ],
      "metadata": {
        "id": "6uqblYS1NcU_"
      },
      "execution_count": null,
      "outputs": []
    },
    {
      "cell_type": "code",
      "source": [
        "vgg16 = models.vgg16(pretrained=True)"
      ],
      "metadata": {
        "colab": {
          "base_uri": "https://localhost:8080/"
        },
        "id": "a6zhz9h0NcTP",
        "outputId": "7e7a4795-bace-44ee-b038-6e4949a83648"
      },
      "execution_count": null,
      "outputs": [
        {
          "output_type": "stream",
          "name": "stderr",
          "text": [
            "/usr/local/lib/python3.10/dist-packages/torchvision/models/_utils.py:208: UserWarning: The parameter 'pretrained' is deprecated since 0.13 and may be removed in the future, please use 'weights' instead.\n",
            "  warnings.warn(\n",
            "/usr/local/lib/python3.10/dist-packages/torchvision/models/_utils.py:223: UserWarning: Arguments other than a weight enum or `None` for 'weights' are deprecated since 0.13 and may be removed in the future. The current behavior is equivalent to passing `weights=VGG16_Weights.IMAGENET1K_V1`. You can also use `weights=VGG16_Weights.DEFAULT` to get the most up-to-date weights.\n",
            "  warnings.warn(msg)\n",
            "Downloading: \"https://download.pytorch.org/models/vgg16-397923af.pth\" to /root/.cache/torch/hub/checkpoints/vgg16-397923af.pth\n",
            "100%|██████████| 528M/528M [00:04<00:00, 114MB/s] \n"
          ]
        }
      ]
    },
    {
      "cell_type": "code",
      "source": [
        "vgg16.classifier[6].out_features = 4"
      ],
      "metadata": {
        "id": "TwpUjxvfNcSX"
      },
      "execution_count": null,
      "outputs": []
    },
    {
      "cell_type": "code",
      "source": [
        "vgg16"
      ],
      "metadata": {
        "colab": {
          "base_uri": "https://localhost:8080/"
        },
        "id": "JMo5PetCNcOc",
        "outputId": "974e13f8-2c93-483a-c63a-d0ca26587f36"
      },
      "execution_count": null,
      "outputs": [
        {
          "output_type": "execute_result",
          "data": {
            "text/plain": [
              "VGG(\n",
              "  (features): Sequential(\n",
              "    (0): Conv2d(3, 64, kernel_size=(3, 3), stride=(1, 1), padding=(1, 1))\n",
              "    (1): ReLU(inplace=True)\n",
              "    (2): Conv2d(64, 64, kernel_size=(3, 3), stride=(1, 1), padding=(1, 1))\n",
              "    (3): ReLU(inplace=True)\n",
              "    (4): MaxPool2d(kernel_size=2, stride=2, padding=0, dilation=1, ceil_mode=False)\n",
              "    (5): Conv2d(64, 128, kernel_size=(3, 3), stride=(1, 1), padding=(1, 1))\n",
              "    (6): ReLU(inplace=True)\n",
              "    (7): Conv2d(128, 128, kernel_size=(3, 3), stride=(1, 1), padding=(1, 1))\n",
              "    (8): ReLU(inplace=True)\n",
              "    (9): MaxPool2d(kernel_size=2, stride=2, padding=0, dilation=1, ceil_mode=False)\n",
              "    (10): Conv2d(128, 256, kernel_size=(3, 3), stride=(1, 1), padding=(1, 1))\n",
              "    (11): ReLU(inplace=True)\n",
              "    (12): Conv2d(256, 256, kernel_size=(3, 3), stride=(1, 1), padding=(1, 1))\n",
              "    (13): ReLU(inplace=True)\n",
              "    (14): Conv2d(256, 256, kernel_size=(3, 3), stride=(1, 1), padding=(1, 1))\n",
              "    (15): ReLU(inplace=True)\n",
              "    (16): MaxPool2d(kernel_size=2, stride=2, padding=0, dilation=1, ceil_mode=False)\n",
              "    (17): Conv2d(256, 512, kernel_size=(3, 3), stride=(1, 1), padding=(1, 1))\n",
              "    (18): ReLU(inplace=True)\n",
              "    (19): Conv2d(512, 512, kernel_size=(3, 3), stride=(1, 1), padding=(1, 1))\n",
              "    (20): ReLU(inplace=True)\n",
              "    (21): Conv2d(512, 512, kernel_size=(3, 3), stride=(1, 1), padding=(1, 1))\n",
              "    (22): ReLU(inplace=True)\n",
              "    (23): MaxPool2d(kernel_size=2, stride=2, padding=0, dilation=1, ceil_mode=False)\n",
              "    (24): Conv2d(512, 512, kernel_size=(3, 3), stride=(1, 1), padding=(1, 1))\n",
              "    (25): ReLU(inplace=True)\n",
              "    (26): Conv2d(512, 512, kernel_size=(3, 3), stride=(1, 1), padding=(1, 1))\n",
              "    (27): ReLU(inplace=True)\n",
              "    (28): Conv2d(512, 512, kernel_size=(3, 3), stride=(1, 1), padding=(1, 1))\n",
              "    (29): ReLU(inplace=True)\n",
              "    (30): MaxPool2d(kernel_size=2, stride=2, padding=0, dilation=1, ceil_mode=False)\n",
              "  )\n",
              "  (avgpool): AdaptiveAvgPool2d(output_size=(7, 7))\n",
              "  (classifier): Sequential(\n",
              "    (0): Linear(in_features=25088, out_features=4096, bias=True)\n",
              "    (1): ReLU(inplace=True)\n",
              "    (2): Dropout(p=0.5, inplace=False)\n",
              "    (3): Linear(in_features=4096, out_features=4096, bias=True)\n",
              "    (4): ReLU(inplace=True)\n",
              "    (5): Dropout(p=0.5, inplace=False)\n",
              "    (6): Linear(in_features=4096, out_features=4, bias=True)\n",
              "  )\n",
              ")"
            ]
          },
          "metadata": {},
          "execution_count": 7
        }
      ]
    },
    {
      "cell_type": "code",
      "source": [
        "MultiViewVGG16()"
      ],
      "metadata": {
        "colab": {
          "base_uri": "https://localhost:8080/"
        },
        "id": "k39ePfmTNMGc",
        "outputId": "8f7bc2fb-7208-48c9-e59a-06271a14f30e"
      },
      "execution_count": null,
      "outputs": [
        {
          "output_type": "stream",
          "name": "stderr",
          "text": [
            "/usr/local/lib/python3.10/dist-packages/torchvision/models/_utils.py:208: UserWarning: The parameter 'pretrained' is deprecated since 0.13 and may be removed in the future, please use 'weights' instead.\n",
            "  warnings.warn(\n",
            "/usr/local/lib/python3.10/dist-packages/torchvision/models/_utils.py:223: UserWarning: Arguments other than a weight enum or `None` for 'weights' are deprecated since 0.13 and may be removed in the future. The current behavior is equivalent to passing `weights=VGG16_Weights.IMAGENET1K_V1`. You can also use `weights=VGG16_Weights.DEFAULT` to get the most up-to-date weights.\n",
            "  warnings.warn(msg)\n"
          ]
        },
        {
          "output_type": "execute_result",
          "data": {
            "text/plain": [
              "MultiViewVGG16(\n",
              "  (vgg16): VGG(\n",
              "    (features): Sequential(\n",
              "      (0): Conv2d(3, 64, kernel_size=(3, 3), stride=(1, 1), padding=(1, 1))\n",
              "      (1): ReLU(inplace=True)\n",
              "      (2): Conv2d(64, 64, kernel_size=(3, 3), stride=(1, 1), padding=(1, 1))\n",
              "      (3): ReLU(inplace=True)\n",
              "      (4): MaxPool2d(kernel_size=2, stride=2, padding=0, dilation=1, ceil_mode=False)\n",
              "      (5): Conv2d(64, 128, kernel_size=(3, 3), stride=(1, 1), padding=(1, 1))\n",
              "      (6): ReLU(inplace=True)\n",
              "      (7): Conv2d(128, 128, kernel_size=(3, 3), stride=(1, 1), padding=(1, 1))\n",
              "      (8): ReLU(inplace=True)\n",
              "      (9): MaxPool2d(kernel_size=2, stride=2, padding=0, dilation=1, ceil_mode=False)\n",
              "      (10): Conv2d(128, 256, kernel_size=(3, 3), stride=(1, 1), padding=(1, 1))\n",
              "      (11): ReLU(inplace=True)\n",
              "      (12): Conv2d(256, 256, kernel_size=(3, 3), stride=(1, 1), padding=(1, 1))\n",
              "      (13): ReLU(inplace=True)\n",
              "      (14): Conv2d(256, 256, kernel_size=(3, 3), stride=(1, 1), padding=(1, 1))\n",
              "      (15): ReLU(inplace=True)\n",
              "      (16): MaxPool2d(kernel_size=2, stride=2, padding=0, dilation=1, ceil_mode=False)\n",
              "      (17): Conv2d(256, 512, kernel_size=(3, 3), stride=(1, 1), padding=(1, 1))\n",
              "      (18): ReLU(inplace=True)\n",
              "      (19): Conv2d(512, 512, kernel_size=(3, 3), stride=(1, 1), padding=(1, 1))\n",
              "      (20): ReLU(inplace=True)\n",
              "      (21): Conv2d(512, 512, kernel_size=(3, 3), stride=(1, 1), padding=(1, 1))\n",
              "      (22): ReLU(inplace=True)\n",
              "      (23): MaxPool2d(kernel_size=2, stride=2, padding=0, dilation=1, ceil_mode=False)\n",
              "      (24): Conv2d(512, 512, kernel_size=(3, 3), stride=(1, 1), padding=(1, 1))\n",
              "      (25): ReLU(inplace=True)\n",
              "      (26): Conv2d(512, 512, kernel_size=(3, 3), stride=(1, 1), padding=(1, 1))\n",
              "      (27): ReLU(inplace=True)\n",
              "      (28): Conv2d(512, 512, kernel_size=(3, 3), stride=(1, 1), padding=(1, 1))\n",
              "      (29): ReLU(inplace=True)\n",
              "      (30): MaxPool2d(kernel_size=2, stride=2, padding=0, dilation=1, ceil_mode=False)\n",
              "    )\n",
              "    (avgpool): AdaptiveAvgPool2d(output_size=(7, 7))\n",
              "    (classifier): Sequential(\n",
              "      (0): Linear(in_features=25088, out_features=4096, bias=True)\n",
              "      (1): ReLU(inplace=True)\n",
              "      (2): Dropout(p=0.5, inplace=False)\n",
              "      (3): Linear(in_features=4096, out_features=4096, bias=True)\n",
              "      (4): ReLU(inplace=True)\n",
              "      (5): Dropout(p=0.5, inplace=False)\n",
              "    )\n",
              "  )\n",
              "  (dropout): Dropout(p=0.4, inplace=False)\n",
              "  (classifier): Linear(in_features=16384, out_features=4, bias=True)\n",
              ")"
            ]
          },
          "metadata": {},
          "execution_count": 9
        }
      ]
    },
    {
      "cell_type": "code",
      "source": [
        "import torch\n",
        "import torch.nn as nn\n",
        "import torchvision.models as models\n",
        "\n",
        "class MultiViewVGG16(nn.Module):\n",
        "    def __init__(self, num_classes=4):\n",
        "        super(MultiViewVGG16, self).__init__()\n",
        "\n",
        "        self.vgg16 = models.vgg16(pretrained=True)\n",
        "        self.vgg16.classifier = nn.Sequential(*list(self.vgg16.classifier.children())[:-1])\n",
        "\n",
        "        self.dropout = nn.Dropout(0.4)\n",
        "        self.classifier = nn.Linear(4096 * 4, num_classes)\n",
        "\n",
        "    def forward(self, x1, x2, x3, x4):\n",
        "        x1 = self.vgg16(x1)\n",
        "        x2 = self.vgg16(x2)\n",
        "        x3 = self.vgg16(x3)\n",
        "        x4 = self.vgg16(x4)\n",
        "\n",
        "        x = torch.cat((x1, x2, x3, x4), dim=1)\n",
        "        x = self.dropout(x)\n",
        "        x = self.classifier(x)\n",
        "\n",
        "        return x"
      ],
      "metadata": {
        "id": "HykIUNqlnBjc"
      },
      "execution_count": null,
      "outputs": []
    },
    {
      "cell_type": "code",
      "source": [
        "data_root = \"/content/drive/MyDrive/Dataset/kompozisyon_dataset\"\n",
        "train_set = MultiViewDataset(data_root, \"train\", transform=transform)\n",
        "test_set = MultiViewDataset(data_root, \"test\", transform=transform)\n",
        "valid_set = MultiViewDataset(data_root, \"valid\", transform=transform)"
      ],
      "metadata": {
        "id": "w66ASqFwrhuZ"
      },
      "execution_count": null,
      "outputs": []
    },
    {
      "cell_type": "code",
      "source": [
        "train_loader = DataLoader(train_set, batch_size=16, shuffle=True)\n",
        "test_loader = DataLoader(test_set, batch_size=16, shuffle=False)\n",
        "valid_loader = DataLoader(valid_set, batch_size=16, shuffle=False)"
      ],
      "metadata": {
        "id": "Fu6mULJ_sCtT"
      },
      "execution_count": null,
      "outputs": []
    },
    {
      "cell_type": "code",
      "source": [
        "len(train_loader), len(test_loader), len(valid_loader)"
      ],
      "metadata": {
        "colab": {
          "base_uri": "https://localhost:8080/"
        },
        "id": "4ypIIrYvriRZ",
        "outputId": "4a9cc549-31d1-4e94-aea1-0aea4d841d1b"
      },
      "execution_count": null,
      "outputs": [
        {
          "output_type": "execute_result",
          "data": {
            "text/plain": [
              "(105, 20, 20)"
            ]
          },
          "metadata": {},
          "execution_count": 6
        }
      ]
    },
    {
      "cell_type": "code",
      "source": [
        "# data_root = \"/content/drive/MyDrive/Dataset/kompozisyon_dataset\"\n",
        "# train_set = MultiViewDataset(data_root, \"train\", transform=transform)\n",
        "# test_set = MultiViewDataset(data_root, \"test\", transform=transform)\n",
        "# valid_set = MultiViewDataset(data_root, \"valid\", transform=transform)\n",
        "\n",
        "# train_loader = DataLoader(train_set, batch_size=32, shuffle=True)\n",
        "# test_loader = DataLoader(test_set, batch_size=32, shuffle=False)\n",
        "# valid_loader = DataLoader(valid_set, batch_size=32, shuffle=False)\n",
        "\n",
        "device = torch.device(\"cuda\" if torch.cuda.is_available() else \"cpu\")\n",
        "\n",
        "model = MultiViewVGG16(num_classes=4)\n",
        "model.to(device)\n",
        "\n",
        "criterion = nn.CrossEntropyLoss()\n",
        "optimizer = optim.SGD(model.parameters(), lr=0.001, momentum=0.9)\n",
        "# optimizer = optim.SGD(model.parameters(), lr=0.001, momentum=0.999)\n",
        "\n",
        "num_epochs = 40\n",
        "\n",
        "best_accuracy = 0\n",
        "save_path = \"/content/drive/MyDrive/Dataset/kompozisyon_dataset/best_model.pth\"\n",
        "\n",
        "for epoch in range(num_epochs):\n",
        "    model.train()\n",
        "    running_loss = 0.0\n",
        "    for i, (images, labels) in enumerate(train_loader):\n",
        "        images = [img.to(device) for img in images]\n",
        "        labels = labels.to(device)\n",
        "\n",
        "        optimizer.zero_grad()\n",
        "\n",
        "        outputs = model(*images)\n",
        "        loss = criterion(outputs, labels)\n",
        "        loss.backward()\n",
        "        optimizer.step()\n",
        "\n",
        "        running_loss += loss.item()\n",
        "\n",
        "    # Validation\n",
        "    model.eval()\n",
        "    correct = 0\n",
        "    total = 0\n",
        "    with torch.no_grad():\n",
        "        for images, labels in valid_loader:\n",
        "            images = [img.to(device) for img in images]\n",
        "            labels = labels.to(device)\n",
        "\n",
        "            outputs = model(*images)\n",
        "            _, predicted = torch.max(outputs, 1)\n",
        "            total += labels.size(0)\n",
        "            correct += (predicted == labels).sum().item()\n",
        "\n",
        "    accuracy = correct / total\n",
        "    print(f\"Epoch [{epoch + 1}/{num_epochs}], Loss: {running_loss / (i + 1)} Validation accuracy: {accuracy * 100:.2f}%\")\n",
        "\n",
        "    torch.save(model.state_dict(), f\"/content/drive/MyDrive/tubitak/epoch_{epoch+1}.pth\")\n",
        "    # Save the best model\n",
        "    if accuracy > best_accuracy:\n",
        "        best_accuracy = accuracy\n",
        "        torch.save(model.state_dict(), save_path)\n",
        "        print(f\"Best model saved with accuracy: {best_accuracy * 100:.2f}%\")\n",
        "\n",
        "print(\"Training completed.\")"
      ],
      "metadata": {
        "id": "3noBzuJKrlST",
        "colab": {
          "base_uri": "https://localhost:8080/"
        },
        "outputId": "5187a161-6811-4738-81f2-3b1ee2875ece"
      },
      "execution_count": null,
      "outputs": [
        {
          "output_type": "stream",
          "name": "stderr",
          "text": [
            "/usr/local/lib/python3.10/dist-packages/torchvision/models/_utils.py:208: UserWarning: The parameter 'pretrained' is deprecated since 0.13 and may be removed in the future, please use 'weights' instead.\n",
            "  warnings.warn(\n",
            "/usr/local/lib/python3.10/dist-packages/torchvision/models/_utils.py:223: UserWarning: Arguments other than a weight enum or `None` for 'weights' are deprecated since 0.13 and may be removed in the future. The current behavior is equivalent to passing `weights=VGG16_Weights.IMAGENET1K_V1`. You can also use `weights=VGG16_Weights.DEFAULT` to get the most up-to-date weights.\n",
            "  warnings.warn(msg)\n",
            "Downloading: \"https://download.pytorch.org/models/vgg16-397923af.pth\" to /root/.cache/torch/hub/checkpoints/vgg16-397923af.pth\n",
            "100%|██████████| 528M/528M [00:08<00:00, 63.0MB/s]\n"
          ]
        },
        {
          "output_type": "stream",
          "name": "stdout",
          "text": [
            "Epoch [1/40], Loss: 0.8003411571184794 Validation accuracy: 83.75%\n",
            "Best model saved with accuracy: 83.75%\n",
            "Epoch [2/40], Loss: 0.39728698773043497 Validation accuracy: 89.06%\n",
            "Best model saved with accuracy: 89.06%\n",
            "Epoch [3/40], Loss: 0.33918641933373045 Validation accuracy: 91.88%\n",
            "Best model saved with accuracy: 91.88%\n",
            "Epoch [4/40], Loss: 0.2779936034941957 Validation accuracy: 88.44%\n",
            "Epoch [5/40], Loss: 0.20713727268434706 Validation accuracy: 88.12%\n",
            "Epoch [6/40], Loss: 0.22390723098956403 Validation accuracy: 88.75%\n",
            "Epoch [7/40], Loss: 0.1395966226501124 Validation accuracy: 86.88%\n",
            "Epoch [8/40], Loss: 0.1694123726515543 Validation accuracy: 91.25%\n",
            "Epoch [9/40], Loss: 0.10650082417719421 Validation accuracy: 88.75%\n",
            "Epoch [10/40], Loss: 0.11320550578335921 Validation accuracy: 87.81%\n",
            "Epoch [11/40], Loss: 0.06316722424013452 Validation accuracy: 85.62%\n",
            "Epoch [12/40], Loss: 0.06431852507271937 Validation accuracy: 91.56%\n",
            "Epoch [13/40], Loss: 0.054168751668961096 Validation accuracy: 90.00%\n",
            "Epoch [14/40], Loss: 0.03204385093635037 Validation accuracy: 84.38%\n",
            "Epoch [15/40], Loss: 0.024040982304861593 Validation accuracy: 90.62%\n",
            "Epoch [16/40], Loss: 0.24622107217576178 Validation accuracy: 87.19%\n",
            "Epoch [17/40], Loss: 0.04203027826124093 Validation accuracy: 91.25%\n",
            "Epoch [18/40], Loss: 0.0169060278614606 Validation accuracy: 89.06%\n",
            "Epoch [19/40], Loss: 0.01681282366140901 Validation accuracy: 88.12%\n",
            "Epoch [20/40], Loss: 0.03331013557839296 Validation accuracy: 88.75%\n",
            "Epoch [21/40], Loss: 0.029072500181029595 Validation accuracy: 89.38%\n",
            "Epoch [22/40], Loss: 0.03135173921999965 Validation accuracy: 90.62%\n",
            "Epoch [23/40], Loss: 0.010134666959146714 Validation accuracy: 90.62%\n",
            "Epoch [24/40], Loss: 0.0009748192049907326 Validation accuracy: 90.94%\n",
            "Epoch [25/40], Loss: 0.0015700308277917516 Validation accuracy: 90.00%\n",
            "Epoch [26/40], Loss: 0.0005597298282347245 Validation accuracy: 91.56%\n",
            "Epoch [27/40], Loss: 0.0009100984906278124 Validation accuracy: 91.25%\n",
            "Epoch [28/40], Loss: 0.0016279457499979886 Validation accuracy: 91.25%\n",
            "Epoch [29/40], Loss: 0.0010890277119220367 Validation accuracy: 92.50%\n",
            "Best model saved with accuracy: 92.50%\n",
            "Epoch [30/40], Loss: 0.0006969527037323955 Validation accuracy: 90.94%\n",
            "Epoch [31/40], Loss: 0.009951858988246645 Validation accuracy: 86.56%\n",
            "Epoch [32/40], Loss: 0.026572016022345494 Validation accuracy: 92.19%\n",
            "Epoch [33/40], Loss: 0.005706356895184616 Validation accuracy: 90.62%\n",
            "Epoch [34/40], Loss: 0.021267457836213345 Validation accuracy: 91.25%\n",
            "Epoch [35/40], Loss: 0.009179139328868284 Validation accuracy: 88.12%\n",
            "Epoch [36/40], Loss: 0.0010535431969834635 Validation accuracy: 91.25%\n",
            "Epoch [37/40], Loss: 0.0006893158923914944 Validation accuracy: 92.19%\n",
            "Epoch [38/40], Loss: 0.0010290019222966727 Validation accuracy: 92.19%\n",
            "Epoch [39/40], Loss: 0.00031470764120924635 Validation accuracy: 91.56%\n",
            "Epoch [40/40], Loss: 0.00042966252588571695 Validation accuracy: 90.94%\n",
            "Training completed.\n"
          ]
        }
      ]
    },
    {
      "cell_type": "code",
      "source": [
        "from sklearn.metrics import confusion_matrix\n",
        "import numpy as np\n",
        "\n",
        "# Load the best model\n",
        "model.load_state_dict(torch.load(save_path))\n",
        "model.to(device)\n",
        "\n",
        "# Test\n",
        "test_set = MultiViewDataset(data_root, \"test\", transform=transform)\n",
        "test_loader = DataLoader(test_set, batch_size=16, shuffle=False)\n",
        "\n",
        "model.eval()\n",
        "predictions = []\n",
        "actuals = []\n",
        "\n",
        "with torch.no_grad():\n",
        "    for images, labels in test_loader:\n",
        "        images = [img.to(device) for img in images]\n",
        "        labels = labels.to(device)\n",
        "\n",
        "        outputs = model(*images)\n",
        "        _, predicted = torch.max(outputs, 1)\n",
        "        predictions.extend(predicted.cpu().numpy())\n",
        "        actuals.extend(labels.cpu().numpy())\n",
        "\n",
        "CM = confusion_matrix(actuals, predictions)\n",
        "print(CM)\n",
        "\n",
        "FP = CM.sum(axis=0) - np.diag(CM)\n",
        "FN = CM.sum(axis=1) - np.diag(CM)\n",
        "TP = np.diag(CM)\n",
        "TN = CM.sum() - (FP + FN + TP)\n",
        "recall = TP/(TP+FN)*100\n",
        "precision = TP/(TP+FP)*100\n",
        "specificity = TN/(TN+FP)*100\n",
        "acc = (TP+TN)/(TP+TN+FP+FN)*100\n",
        "print(f'\\nSpecificty: {specificity}, Mean Specificity: {np.nanmean(specificity)}')\n",
        "print(f'\\nRecall: {recall}, Mean Recall: {np.nanmean(recall)}')\n",
        "print(f'\\nPrecision: {precision}, Mean Precision: {np.nanmean(precision)}')\n",
        "print(f'\\nAccuracy: {acc}, Mean Accuracy: {np.nanmean(acc)}')\n",
        "print(f'\\nF1 Score: {((2*recall*precision)/(recall+precision))}, Mean F1-Score: {np.nanmean(((2*recall*precision)/(recall+precision)))}' )\n"
      ],
      "metadata": {
        "id": "ATnB6QYRrlL2",
        "colab": {
          "base_uri": "https://localhost:8080/"
        },
        "outputId": "eeefa2cc-3954-4adb-a505-71d533fc079c"
      },
      "execution_count": null,
      "outputs": [
        {
          "output_type": "stream",
          "name": "stdout",
          "text": [
            "[[63 17  0  0]\n",
            " [ 2 76  2  0]\n",
            " [ 0  0 76  4]\n",
            " [ 0  0  3 77]]\n",
            "\n",
            "Specificty: [99.16666667 92.91666667 97.91666667 98.33333333], Mean Specificity: 97.08333333333333\n",
            "\n",
            "Recall: [78.75 95.   95.   96.25], Mean Recall: 91.25\n",
            "\n",
            "Precision: [96.92307692 81.72043011 93.82716049 95.0617284 ], Mean Precision: 91.88309897987317\n",
            "\n",
            "Accuracy: [94.0625 93.4375 97.1875 97.8125], Mean Accuracy: 95.625\n",
            "\n",
            "F1 Score: [86.89655172 87.86127168 94.40993789 95.65217391], Mean F1-Score: 91.2049838004202\n"
          ]
        }
      ]
    },
    {
      "cell_type": "code",
      "source": [
        "type(actuals)"
      ],
      "metadata": {
        "colab": {
          "base_uri": "https://localhost:8080/"
        },
        "id": "J446ahg5xR9j",
        "outputId": "0be413c0-1ef2-4254-83a0-9911ce324939"
      },
      "execution_count": null,
      "outputs": [
        {
          "output_type": "execute_result",
          "data": {
            "text/plain": [
              "list"
            ]
          },
          "metadata": {},
          "execution_count": 11
        }
      ]
    },
    {
      "cell_type": "code",
      "source": [
        "import seaborn as sns\n",
        "import matplotlib.pyplot as plt\n",
        "\n",
        "# Confusion matrix\n",
        "confusion_mtx = confusion_matrix(actuals, predictions)\n",
        "\n",
        "# Plot confusion matrix using seaborn heatmap\n",
        "plt.figure(figsize=(10, 8))\n",
        "sns.set(font_scale=1.2)\n",
        "sns.heatmap(confusion_mtx, annot=True, fmt='g', cmap='Blues', xticklabels=[\"A\",\"B\",\"C\",\"D\"], yticklabels=[\"A\",\"B\",\"C\",\"D\"])\n",
        "plt.xlabel('Predicted')\n",
        "plt.ylabel('Actual')\n",
        "plt.title('Confusion Matrix')\n",
        "plt.show()\n"
      ],
      "metadata": {
        "colab": {
          "base_uri": "https://localhost:8080/",
          "height": 732
        },
        "id": "xouW2nkXrlJz",
        "outputId": "db76fbe9-12be-47fb-fdef-399959e5c987"
      },
      "execution_count": null,
      "outputs": [
        {
          "output_type": "display_data",
          "data": {
            "text/plain": [
              "<Figure size 1000x800 with 2 Axes>"
            ],
            "image/png": "[encoded data removed]"
          },
          "metadata": {}
        }
      ]
    },
    {
      "cell_type": "code",
      "source": [],
      "metadata": {
        "id": "SRG9gsuerj6U"
      },
      "execution_count": null,
      "outputs": []
    }
  ],
  "metadata": {
    "accelerator": "GPU",
    "colab": {
      "provenance": [],
      "machine_shape": "hm",
      "gpuType": "T4",
      "gpuClass": "premium"
    },
    "kernelspec": {
      "display_name": "Python 3",
      "name": "python3"
    },
    "language_info": {
      "name": "python"
    }
  },
  "nbformat": 4,
  "nbformat_minor": 0
}